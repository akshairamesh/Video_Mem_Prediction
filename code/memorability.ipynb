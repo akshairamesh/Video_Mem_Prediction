{
  "nbformat": 4,
  "nbformat_minor": 0,
  "metadata": {
    "accelerator": "GPU",
    "colab": {
      "name": "memorability.ipynb",
      "provenance": [],
      "collapsed_sections": []
    },
    "kernelspec": {
      "display_name": "Python 3",
      "language": "python",
      "name": "python3"
    },
    "language_info": {
      "codemirror_mode": {
        "name": "ipython",
        "version": 3
      },
      "file_extension": ".py",
      "mimetype": "text/x-python",
      "name": "python",
      "nbconvert_exporter": "python",
      "pygments_lexer": "ipython3",
      "version": "3.7.3"
    }
  },
  "cells": [
    {
      "cell_type": "code",
      "metadata": {
        "colab_type": "code",
        "id": "lw6aBh6YtpAI",
        "outputId": "bc816893-1e6f-4ba0-c0a3-4506de9d4e5c",
        "colab": {
          "base_uri": "https://localhost:8080/",
          "height": 124
        }
      },
      "source": [
        "from google.colab import drive\n",
        "drive.mount('/content/drive/')"
      ],
      "execution_count": 0,
      "outputs": [
        {
          "output_type": "stream",
          "text": [
            "Go to this URL in a browser: https://accounts.google.com/o/oauth2/auth?client_id=947318989803-6bn6qk8qdgf4n4g3pfee6491hc0brc4i.apps.googleusercontent.com&redirect_uri=urn%3aietf%3awg%3aoauth%3a2.0%3aoob&response_type=code&scope=email%20https%3a%2f%2fwww.googleapis.com%2fauth%2fdocs.test%20https%3a%2f%2fwww.googleapis.com%2fauth%2fdrive%20https%3a%2f%2fwww.googleapis.com%2fauth%2fdrive.photos.readonly%20https%3a%2f%2fwww.googleapis.com%2fauth%2fpeopleapi.readonly\n",
            "\n",
            "Enter your authorization code:\n",
            "··········\n",
            "Mounted at /content/drive/\n"
          ],
          "name": "stdout"
        }
      ]
    },
    {
      "cell_type": "markdown",
      "metadata": {
        "colab_type": "text",
        "id": "onKXg5Q0ubRF"
      },
      "source": [
        "## Install necessary Libraries"
      ]
    },
    {
      "cell_type": "code",
      "metadata": {
        "colab_type": "code",
        "id": "jMFhooMFtzpQ",
        "colab": {}
      },
      "source": [
        "import os\n",
        "os.chdir(\"/content/drive/My Drive/CA684_Assignment/\")"
      ],
      "execution_count": 0,
      "outputs": []
    },
    {
      "cell_type": "markdown",
      "metadata": {
        "colab_type": "text",
        "id": "Gz4O2sKnujaI"
      },
      "source": [
        "## Import Libraries"
      ]
    },
    {
      "cell_type": "code",
      "metadata": {
        "colab_type": "code",
        "id": "lLtbrlF3uXaK",
        "outputId": "01adb0cf-c671-433d-804f-fe4ad02fa4d2",
        "colab": {
          "base_uri": "https://localhost:8080/",
          "height": 34
        }
      },
      "source": [
        "## Import necessary libraries\n",
        "import pandas as pd\n",
        "import scipy\n",
        "from keras import Sequential\n",
        "from keras import layers\n",
        "from keras import regularizers\n",
        "import numpy as np\n",
        "from string import punctuation\n",
        "from collections import Counter\n",
        "from keras.preprocessing.text import Tokenizer\n",
        "from sklearn.model_selection import train_test_split\n",
        "import matplotlib.pyplot as plt"
      ],
      "execution_count": 0,
      "outputs": [
        {
          "output_type": "stream",
          "text": [
            "Using TensorFlow backend.\n"
          ],
          "name": "stderr"
        }
      ]
    },
    {
      "cell_type": "markdown",
      "metadata": {
        "colab_type": "text",
        "id": "NA6_zvDVuul1"
      },
      "source": [
        "## Importing Necessary Data\n"
      ]
    },
    {
      "cell_type": "code",
      "metadata": {
        "colab_type": "code",
        "id": "5n7M8s0fuH3s",
        "colab": {}
      },
      "source": [
        "# reading labels and captions into dataframe\n",
        "def read_caps(fname):\n",
        "    \"\"\"Load the captions into a dataframe\"\"\"\n",
        "    vn = []\n",
        "    cap = []\n",
        "    df = pd.DataFrame();\n",
        "    with open(fname) as f:\n",
        "        for line in f:\n",
        "            pairs = line.split()\n",
        "            vn.append(pairs[0])\n",
        "            cap.append(pairs[1])\n",
        "        df['video']=vn\n",
        "        df['caption']=cap\n",
        "    return df\n",
        "\n",
        "\n",
        "# loading captions into df_cap \n",
        "cap_path = './Dev-set/Captions/dev-set_video-captions.txt'\n",
        "df_cap=read_caps(cap_path)\n",
        "\n",
        "# loading ground truth values into labels\n",
        "label_path = './Dev-set/Ground-truth/'\n",
        "labels=pd.read_csv(label_path+'ground-truth.csv')"
      ],
      "execution_count": 0,
      "outputs": []
    },
    {
      "cell_type": "code",
      "metadata": {
        "colab_type": "code",
        "id": "O2fGVN4WuU_e",
        "colab": {}
      },
      "source": [
        "#df_cap\n",
        "#labels"
      ],
      "execution_count": 0,
      "outputs": []
    },
    {
      "cell_type": "markdown",
      "metadata": {
        "colab_type": "text",
        "id": "cpj6xn1gvBKe"
      },
      "source": [
        "## Data Preprocessing "
      ]
    },
    {
      "cell_type": "code",
      "metadata": {
        "colab_type": "code",
        "id": "5czVp__Yu4j3",
        "colab": {}
      },
      "source": [
        "## Lets count the words and remove punctuations\n",
        "counts = Counter()\n",
        "for i, cap in enumerate(df_cap['caption']):\n",
        "    # replace punctuations with space\n",
        "    # convert words to lower case \n",
        "    text = ''.join([c if c not in punctuation else ' ' for c in cap]).lower()\n",
        "    df_cap.loc[i,'caption'] = text\n",
        "    counts.update(text.split())"
      ],
      "execution_count": 0,
      "outputs": []
    },
    {
      "cell_type": "code",
      "metadata": {
        "colab_type": "code",
        "id": "oJmpl9Rzzm0G",
        "colab": {}
      },
      "source": [
        "#counts\n",
        "#len(counts)"
      ],
      "execution_count": 0,
      "outputs": []
    },
    {
      "cell_type": "markdown",
      "metadata": {
        "colab_type": "text",
        "id": "CyFaxuaXz9AP"
      },
      "source": [
        "## Text Mapping "
      ]
    },
    {
      "cell_type": "code",
      "metadata": {
        "colab_type": "code",
        "id": "MdT62HYLz3x_",
        "colab": {}
      },
      "source": [
        "len_token = len(counts) # create length of token\n",
        "tokenizer = Tokenizer(num_words=len_token) # use tokenizer\n",
        "#print(len_token)"
      ],
      "execution_count": 0,
      "outputs": []
    },
    {
      "cell_type": "code",
      "metadata": {
        "colab_type": "code",
        "id": "wwZITEyn0OSS",
        "colab": {}
      },
      "source": [
        "tokenizer.fit_on_texts(list(df_cap.caption.values)) #fit a list of captions to the tokenizer\n",
        "#the tokenizer vectorizes a text corpus, by turning each text into either a sequence of integers "
      ],
      "execution_count": 0,
      "outputs": []
    },
    {
      "cell_type": "markdown",
      "metadata": {
        "colab_type": "text",
        "id": "s9GZvRJV0YuV"
      },
      "source": [
        "## One-Hot Encoding of text"
      ]
    },
    {
      "cell_type": "code",
      "metadata": {
        "colab_type": "code",
        "id": "knEYTf780YL0",
        "colab": {}
      },
      "source": [
        "## Convert the integers into binary 0 and 1 format\n",
        "one_hot_res = tokenizer.texts_to_matrix(list(df_cap.caption.values),mode='binary')\n"
      ],
      "execution_count": 0,
      "outputs": []
    },
    {
      "cell_type": "code",
      "metadata": {
        "colab_type": "code",
        "id": "AJj5LN3Y0Vl6",
        "colab": {}
      },
      "source": [
        "#one_hot_res.shape"
      ],
      "execution_count": 0,
      "outputs": []
    },
    {
      "cell_type": "markdown",
      "metadata": {
        "colab_type": "text",
        "id": "ww3VEpL51H24"
      },
      "source": [
        "## Get X and Y values for prediction"
      ]
    },
    {
      "cell_type": "code",
      "metadata": {
        "colab_type": "code",
        "id": "7HcJw9nS0yu4",
        "colab": {}
      },
      "source": [
        "## one_hot_res will be our X variable\n",
        "## predictor will be our Y variable\n",
        "predictor = labels[['short-term_memorability','long-term_memorability']].values\n",
        "Y = predictor\n",
        "X = one_hot_res\n"
      ],
      "execution_count": 0,
      "outputs": []
    },
    {
      "cell_type": "markdown",
      "metadata": {
        "colab_type": "text",
        "id": "m9HjS5S71S14"
      },
      "source": [
        "## Train-Test Split"
      ]
    },
    {
      "cell_type": "code",
      "metadata": {
        "colab_type": "code",
        "id": "H4TCxun11SNY",
        "colab": {}
      },
      "source": [
        "X_train, X_test, Y_train, Y_test = train_test_split(X,Y, test_size=0.2, random_state=42)"
      ],
      "execution_count": 0,
      "outputs": []
    },
    {
      "cell_type": "markdown",
      "metadata": {
        "colab_type": "text",
        "id": "s9bqELxt1gNd"
      },
      "source": [
        "\n",
        "\n",
        "---\n",
        "## Model is built using keras as it provides GPU support for faster training."
      ]
    },
    {
      "cell_type": "markdown",
      "metadata": {
        "colab_type": "text",
        "id": "T8a8lwVAA3Dj"
      },
      "source": [
        "### Multilayer perceptron Model"
      ]
    },
    {
      "cell_type": "code",
      "metadata": {
        "colab_type": "code",
        "id": "3WC7QiIu1GTg",
        "outputId": "0c762829-5040-4f54-ae49-8a1b6d78eb4b",
        "colab": {
          "base_uri": "https://localhost:8080/",
          "height": 1000
        }
      },
      "source": [
        "## Multi Layer perceptron Model \n",
        "\n",
        "model=Sequential() # Create Sequential NN model\n",
        "\n",
        "## Add layers for MLP\n",
        "model.add(layers.Dropout(0.6, input_shape=(len_token,))) # add dropout layer\n",
        "\n",
        "# layer of 10 neurons with selu activation function, L2 Regularization and initial weights as zeros\n",
        "model.add(layers.Dense(10,activation='selu',kernel_regularizer=regularizers.l2(0.001), kernel_initializer='zeros')) \n",
        "\n",
        "# layer of 10 neurons with selu activation function and L2 Regularization\n",
        "model.add(layers.Dense(10,activation='selu',kernel_regularizer=regularizers.l2(0.001)))\n",
        "\n",
        "# add dropout\n",
        "model.add(layers.Dropout(0.6))\n",
        "model.add(layers.Dense(2,activation='sigmoid')) ## Last activation as sigmoid to predict score\n",
        "\n",
        "## Compile the model \n",
        "# Optimizer Adamax\n",
        "model.compile(optimizer='adamax',loss='mse',metrics=['acc'])\n",
        "\n",
        "## All hyperparameters are selected using GridSearch and Trial & Error Approach\n",
        "\n",
        "## Training the model \n",
        "# Number of epochs also comes from Gridsearch\n",
        "history = model.fit(X_train,Y_train,epochs=20, validation_data=(X_test,Y_test))\n",
        "\n",
        "# visualizing the model\n",
        "loss = history.history['loss']\n",
        "val_loss = history.history['val_loss']\n",
        "\n",
        "epochs = range(1,len(loss)+1)\n",
        "\n",
        "plt.plot(epochs,loss,'bo',label='Training loss')\n",
        "plt.plot(epochs,val_loss,'b',label='Validation loss')\n",
        "plt.title('Training and validation loss')\n",
        "plt.xlabel('Epochs')\n",
        "plt.ylabel('Loss')\n",
        "plt.legend()\n",
        "plt.show()\n",
        "\n",
        "plt.figure()\n",
        "acc = history.history['acc']\n",
        "val_acc = history.history['val_acc']\n",
        "plt.plot(epochs, acc, 'bo', label='Training acc')\n",
        "plt.plot(epochs, val_acc, 'b', label='Validation acc')\n",
        "plt.title('Training and validation accuracy')\n",
        "plt.xlabel('Epochs')\n",
        "plt.ylabel('Acc')\n",
        "plt.legend()\n",
        "plt.show()\n",
        "\n"
      ],
      "execution_count": 0,
      "outputs": [
        {
          "output_type": "stream",
          "text": [
            "Train on 4800 samples, validate on 1200 samples\n",
            "Epoch 1/20\n",
            "4800/4800 [==============================] - 1s 164us/step - loss: 0.0620 - acc: 0.4727 - val_loss: 0.0243 - val_acc: 0.5142\n",
            "Epoch 2/20\n",
            "4800/4800 [==============================] - 1s 135us/step - loss: 0.0330 - acc: 0.5537 - val_loss: 0.0197 - val_acc: 0.7100\n",
            "Epoch 3/20\n",
            "4800/4800 [==============================] - 1s 134us/step - loss: 0.0267 - acc: 0.6129 - val_loss: 0.0175 - val_acc: 0.7100\n",
            "Epoch 4/20\n",
            "4800/4800 [==============================] - 1s 133us/step - loss: 0.0233 - acc: 0.6438 - val_loss: 0.0162 - val_acc: 0.7100\n",
            "Epoch 5/20\n",
            "4800/4800 [==============================] - 1s 134us/step - loss: 0.0215 - acc: 0.6560 - val_loss: 0.0154 - val_acc: 0.7100\n",
            "Epoch 6/20\n",
            "4800/4800 [==============================] - 1s 130us/step - loss: 0.0202 - acc: 0.6723 - val_loss: 0.0149 - val_acc: 0.7100\n",
            "Epoch 7/20\n",
            "4800/4800 [==============================] - 1s 139us/step - loss: 0.0193 - acc: 0.6819 - val_loss: 0.0145 - val_acc: 0.7100\n",
            "Epoch 8/20\n",
            "4800/4800 [==============================] - 1s 129us/step - loss: 0.0185 - acc: 0.6923 - val_loss: 0.0143 - val_acc: 0.7100\n",
            "Epoch 9/20\n",
            "4800/4800 [==============================] - 1s 134us/step - loss: 0.0177 - acc: 0.6992 - val_loss: 0.0142 - val_acc: 0.7100\n",
            "Epoch 10/20\n",
            "4800/4800 [==============================] - 1s 136us/step - loss: 0.0172 - acc: 0.6979 - val_loss: 0.0141 - val_acc: 0.7100\n",
            "Epoch 11/20\n",
            "4800/4800 [==============================] - 1s 132us/step - loss: 0.0168 - acc: 0.7004 - val_loss: 0.0140 - val_acc: 0.7100\n",
            "Epoch 12/20\n",
            "4800/4800 [==============================] - 1s 133us/step - loss: 0.0164 - acc: 0.7021 - val_loss: 0.0140 - val_acc: 0.7100\n",
            "Epoch 13/20\n",
            "4800/4800 [==============================] - 1s 130us/step - loss: 0.0162 - acc: 0.7038 - val_loss: 0.0140 - val_acc: 0.7100\n",
            "Epoch 14/20\n",
            "4800/4800 [==============================] - 1s 133us/step - loss: 0.0154 - acc: 0.7035 - val_loss: 0.0139 - val_acc: 0.7100\n",
            "Epoch 15/20\n",
            "4800/4800 [==============================] - 1s 132us/step - loss: 0.0150 - acc: 0.7035 - val_loss: 0.0139 - val_acc: 0.7100\n",
            "Epoch 16/20\n",
            "4800/4800 [==============================] - 1s 130us/step - loss: 0.0150 - acc: 0.7035 - val_loss: 0.0139 - val_acc: 0.7100\n",
            "Epoch 17/20\n",
            "4800/4800 [==============================] - 1s 128us/step - loss: 0.0147 - acc: 0.7035 - val_loss: 0.0139 - val_acc: 0.7100\n",
            "Epoch 18/20\n",
            "4800/4800 [==============================] - 1s 134us/step - loss: 0.0145 - acc: 0.7035 - val_loss: 0.0139 - val_acc: 0.7100\n",
            "Epoch 19/20\n",
            "4800/4800 [==============================] - 1s 131us/step - loss: 0.0143 - acc: 0.7035 - val_loss: 0.0139 - val_acc: 0.7100\n",
            "Epoch 20/20\n",
            "4800/4800 [==============================] - 1s 133us/step - loss: 0.0141 - acc: 0.7035 - val_loss: 0.0139 - val_acc: 0.7100\n"
          ],
          "name": "stdout"
        },
        {
          "output_type": "display_data",
          "data": {
            "image/png": "[encoded data removed]",
            "text/plain": [
              "<Figure size 432x288 with 1 Axes>"
            ]
          },
          "metadata": {
            "tags": [],
            "needs_background": "light"
          }
        },
        {
          "output_type": "display_data",
          "data": {
            "image/png": "[encoded data removed]",
            "text/plain": [
              "<Figure size 432x288 with 1 Axes>"
            ]
          },
          "metadata": {
            "tags": [],
            "needs_background": "light"
          }
        }
      ]
    },
    {
      "cell_type": "markdown",
      "metadata": {
        "colab_type": "text",
        "id": "EuL1q7VnZO-N"
      },
      "source": [
        "## To predict and test the model. See the code at the end"
      ]
    },
    {
      "cell_type": "markdown",
      "metadata": {
        "colab_type": "text",
        "id": "gxRLs6hAIYIV"
      },
      "source": [
        "## Convolutional Neural Network Model\n"
      ]
    },
    {
      "cell_type": "code",
      "metadata": {
        "colab_type": "code",
        "id": "jAkjh5gUIWvx",
        "outputId": "e1358f16-ba97-4e04-9bd4-7c3408514b5f",
        "colab": {
          "base_uri": "https://localhost:8080/",
          "height": 1000
        }
      },
      "source": [
        "# Some prerequiste for RNN\n",
        "## one_hot_res will be our X variable\n",
        "## predictor will be our Y variable\n",
        "predictor = labels[['short-term_memorability','long-term_memorability']].values\n",
        "Y = predictor\n",
        "X = one_hot_res\n",
        "X_train, X_test, Y_train, Y_test = train_test_split(X,Y, test_size=0.2, random_state=42)\n",
        "\n",
        "## Convolutional Neural Network \n",
        "embedding_dim = 100 # Embedding dimension to convert / reduce captions dimensions\n",
        "vocab_size=5191 # Size of our vocabulary\n",
        "\n",
        "model=Sequential() # Create Sequential NN model\n",
        "\n",
        "## add Embedding layer to convert dimensions required by Convolutional Layer\n",
        "model.add(layers.Embedding(vocab_size, embedding_dim, input_length=5191, init='uniform'))\n",
        "\n",
        "## add 1D Convolutional Layer of with 128 filters and 5 as length of Convolutional window\n",
        "model.add(layers.Conv1D(128, 5, activation='selu', kernel_initializer='zeros', kernel_regularizer=regularizers.l2(0.001)))\n",
        "\n",
        "## add global max pooling layers as it a Naturnal Language Processing task\n",
        "model.add(layers.GlobalMaxPooling1D())\n",
        "\n",
        "## layer of 10 neurons with Ridge Regularization and dropout\n",
        "model.add(layers.Dense(10, activation='selu', kernel_regularizer=regularizers.l2(0.001)))\n",
        "#model.add(layers.Dropout(0.6))\n",
        "\n",
        "## layer of 10 neurons with Ridge Regularization\n",
        "model.add(layers.Dense(10,activation='selu',kernel_regularizer=regularizers.l2(0.001)))\n",
        "#model.add(layers.Dropout(0.6))\n",
        "\n",
        "## output layer with 2 neurons for each score with sigmoid activation\n",
        "model.add(layers.Dense(2, activation='sigmoid'))\n",
        "\n",
        "# compile the model \n",
        "model.compile(optimizer='adamax',loss='mse',metrics=['acc'])\n",
        "\n",
        "# training the model \n",
        "history = model.fit(X_train,Y_train,epochs=20, validation_data=(X_test,Y_test))\n",
        "\n",
        "# visualizing the model\n",
        "loss = history.history['loss']\n",
        "val_loss = history.history['val_loss']\n",
        "\n",
        "epochs = range(1,len(loss)+1)\n",
        "\n",
        "plt.plot(epochs,loss,'bo',label='Training loss')\n",
        "plt.plot(epochs,val_loss,'b',label='Validation loss')\n",
        "plt.title('Training and validation loss')\n",
        "plt.xlabel('Epochs')\n",
        "plt.ylabel('Loss')\n",
        "plt.legend()\n",
        "plt.show()\n",
        "\n",
        "plt.figure()\n",
        "acc = history.history['acc']\n",
        "#acc = history.history['soft_acc']\n",
        "#val_acc = history.history['val_soft_acc']\n",
        "val_acc = history.history['val_acc']\n",
        "plt.plot(epochs, acc, 'bo', label='Training acc')\n",
        "plt.plot(epochs, val_acc, 'b', label='Validation acc')\n",
        "plt.title('Training and validation accuracy')\n",
        "plt.xlabel('Epochs')\n",
        "plt.ylabel('Acc')\n",
        "plt.legend()\n",
        "plt.show()"
      ],
      "execution_count": 0,
      "outputs": [
        {
          "output_type": "stream",
          "text": [
            "/usr/local/lib/python3.6/dist-packages/ipykernel_launcher.py:13: UserWarning: Update your `Embedding` call to the Keras 2 API: `Embedding(5191, 100, input_length=5191, embeddings_initializer=\"uniform\")`\n",
            "  del sys.path[0]\n",
            "/usr/local/lib/python3.6/dist-packages/tensorflow/python/framework/indexed_slices.py:434: UserWarning: Converting sparse IndexedSlices to a dense Tensor of unknown shape. This may consume a large amount of memory.\n",
            "  \"Converting sparse IndexedSlices to a dense Tensor of unknown shape. \"\n"
          ],
          "name": "stderr"
        },
        {
          "output_type": "stream",
          "text": [
            "Train on 4800 samples, validate on 1200 samples\n",
            "Epoch 1/20\n",
            "4800/4800 [==============================] - 5s 1ms/step - loss: 0.0352 - acc: 0.6990 - val_loss: 0.0271 - val_acc: 0.7100\n",
            "Epoch 2/20\n",
            "4800/4800 [==============================] - 5s 1ms/step - loss: 0.0236 - acc: 0.7035 - val_loss: 0.0216 - val_acc: 0.7100\n",
            "Epoch 3/20\n",
            "4800/4800 [==============================] - 5s 1ms/step - loss: 0.0200 - acc: 0.7035 - val_loss: 0.0193 - val_acc: 0.7100\n",
            "Epoch 4/20\n",
            "4800/4800 [==============================] - 5s 1ms/step - loss: 0.0183 - acc: 0.7035 - val_loss: 0.0180 - val_acc: 0.7100\n",
            "Epoch 5/20\n",
            "4800/4800 [==============================] - 5s 1ms/step - loss: 0.0173 - acc: 0.7035 - val_loss: 0.0174 - val_acc: 0.7100\n",
            "Epoch 6/20\n",
            "4800/4800 [==============================] - 5s 1ms/step - loss: 0.0166 - acc: 0.7035 - val_loss: 0.0166 - val_acc: 0.7100\n",
            "Epoch 7/20\n",
            "4800/4800 [==============================] - 5s 1ms/step - loss: 0.0161 - acc: 0.7035 - val_loss: 0.0162 - val_acc: 0.7100\n",
            "Epoch 8/20\n",
            "4800/4800 [==============================] - 5s 1ms/step - loss: 0.0158 - acc: 0.7035 - val_loss: 0.0159 - val_acc: 0.7100\n",
            "Epoch 9/20\n",
            "4800/4800 [==============================] - 5s 1ms/step - loss: 0.0155 - acc: 0.7035 - val_loss: 0.0156 - val_acc: 0.7100\n",
            "Epoch 10/20\n",
            "4800/4800 [==============================] - 5s 1ms/step - loss: 0.0152 - acc: 0.7035 - val_loss: 0.0154 - val_acc: 0.7100\n",
            "Epoch 11/20\n",
            "4800/4800 [==============================] - 5s 1ms/step - loss: 0.0150 - acc: 0.7035 - val_loss: 0.0154 - val_acc: 0.7100\n",
            "Epoch 12/20\n",
            "4800/4800 [==============================] - 5s 1ms/step - loss: 0.0150 - acc: 0.7035 - val_loss: 0.0151 - val_acc: 0.7100\n",
            "Epoch 13/20\n",
            "4800/4800 [==============================] - 5s 1ms/step - loss: 0.0148 - acc: 0.7035 - val_loss: 0.0150 - val_acc: 0.7100\n",
            "Epoch 14/20\n",
            "4800/4800 [==============================] - 5s 1ms/step - loss: 0.0146 - acc: 0.7035 - val_loss: 0.0153 - val_acc: 0.7100\n",
            "Epoch 15/20\n",
            "4800/4800 [==============================] - 5s 1ms/step - loss: 0.0146 - acc: 0.7035 - val_loss: 0.0150 - val_acc: 0.7100\n",
            "Epoch 16/20\n",
            "4800/4800 [==============================] - 5s 1ms/step - loss: 0.0145 - acc: 0.7035 - val_loss: 0.0149 - val_acc: 0.7100\n",
            "Epoch 17/20\n",
            "4800/4800 [==============================] - 5s 1ms/step - loss: 0.0144 - acc: 0.7035 - val_loss: 0.0146 - val_acc: 0.7100\n",
            "Epoch 18/20\n",
            "4800/4800 [==============================] - 5s 1ms/step - loss: 0.0143 - acc: 0.7035 - val_loss: 0.0147 - val_acc: 0.7100\n",
            "Epoch 19/20\n",
            "4800/4800 [==============================] - 5s 1ms/step - loss: 0.0142 - acc: 0.7035 - val_loss: 0.0145 - val_acc: 0.7100\n",
            "Epoch 20/20\n",
            "4800/4800 [==============================] - 5s 1ms/step - loss: 0.0141 - acc: 0.7035 - val_loss: 0.0145 - val_acc: 0.7100\n"
          ],
          "name": "stdout"
        },
        {
          "output_type": "display_data",
          "data": {
            "image/png": "[encoded data removed]",
            "text/plain": [
              "<Figure size 432x288 with 1 Axes>"
            ]
          },
          "metadata": {
            "tags": [],
            "needs_background": "light"
          }
        },
        {
          "output_type": "display_data",
          "data": {
            "image/png": "[encoded data removed]",
            "text/plain": [
              "<Figure size 432x288 with 1 Axes>"
            ]
          },
          "metadata": {
            "tags": [],
            "needs_background": "light"
          }
        }
      ]
    },
    {
      "cell_type": "markdown",
      "metadata": {
        "colab_type": "text",
        "id": "iq6VbVM7ZXoX"
      },
      "source": [
        "## To predict and test the model. See the code at the end"
      ]
    },
    {
      "cell_type": "markdown",
      "metadata": {
        "colab_type": "text",
        "id": "lTrPHo_OA_g7"
      },
      "source": [
        "## Recurrent Neural Network Model"
      ]
    },
    {
      "cell_type": "code",
      "metadata": {
        "colab_type": "code",
        "id": "KQ6fUdO5A8p2",
        "colab": {}
      },
      "source": [
        "# For RNN we will need to use sequence embedding instead of one hot encoding\n",
        "## Sequence Encoding of the text\n",
        "sequences = tokenizer.texts_to_sequences(list(df_cap.caption.values))"
      ],
      "execution_count": 0,
      "outputs": []
    },
    {
      "cell_type": "code",
      "metadata": {
        "colab_type": "code",
        "id": "9LqMjucEBhiV",
        "outputId": "6085b62f-bd5b-42d9-e61b-6d42948c5570",
        "colab": {
          "base_uri": "https://localhost:8080/",
          "height": 34
        }
      },
      "source": [
        "print(sequences[0])"
      ],
      "execution_count": 0,
      "outputs": [
        {
          "output_type": "stream",
          "text": [
            "[724, 7, 35, 884, 384, 91]\n"
          ],
          "name": "stdout"
        }
      ]
    },
    {
      "cell_type": "markdown",
      "metadata": {
        "colab_type": "text",
        "id": "fUg-9bQVBlbh"
      },
      "source": [
        "### Making sequence encoding of same length to ensure we have same number of dimensions across all elements"
      ]
    },
    {
      "cell_type": "code",
      "metadata": {
        "colab_type": "code",
        "id": "seeIM8YpBlDJ",
        "outputId": "80a44463-27ee-4085-b4a9-33dfe05fe829",
        "colab": {
          "base_uri": "https://localhost:8080/",
          "height": 34
        }
      },
      "source": [
        "## set max length of all dimensions to 50\n",
        "max_length=50\n",
        "X_seq = np.zeros((len(sequences),max_length))\n",
        "for i in range(len(sequences)):\n",
        "    n = len(sequences[i])\n",
        "    if n==0:\n",
        "        print(i)\n",
        "    else:\n",
        "        X_seq[i,-n:] = sequences[i]\n",
        "X_seq.shape"
      ],
      "execution_count": 0,
      "outputs": [
        {
          "output_type": "execute_result",
          "data": {
            "text/plain": [
              "(6000, 50)"
            ]
          },
          "metadata": {
            "tags": []
          },
          "execution_count": 40
        }
      ]
    },
    {
      "cell_type": "markdown",
      "metadata": {
        "colab_type": "text",
        "id": "kOjlB207CKUj"
      },
      "source": [
        "## Build and train RNN Model "
      ]
    },
    {
      "cell_type": "code",
      "metadata": {
        "colab_type": "code",
        "id": "J26ocLcFCNU6",
        "outputId": "ff686583-10a7-44f0-e253-41c5ffbe66a9",
        "colab": {
          "base_uri": "https://localhost:8080/",
          "height": 1000
        }
      },
      "source": [
        "# Some prequisites for RNN\n",
        "## sequences will be our X variable\n",
        "## predictor will be our Y variable\n",
        "predictor = labels[['short-term_memorability','long-term_memorability']].values\n",
        "Y = predictor\n",
        "X = X_seq\n",
        "## Train-Test Split\n",
        "X_train, X_test, Y_train, Y_test = train_test_split(X,Y, test_size=0.2, random_state=42)\n",
        "\n",
        "\n",
        "## Recurrent Neural Network Model \n",
        "## All hyperparameters are selected using GridSearch and Trial & Error Approach\n",
        "\n",
        "model=Sequential() # Create Sequential NN model\n",
        "\n",
        "## add Embedding layer for RNN to map our data into a format suitable for LSTM layer\n",
        "model.add(layers.Embedding(input_dim=5191, output_dim=20, input_length=50, init='uniform'))\n",
        "\n",
        "## add LSTM layer for some hidden layer and memory into the network\n",
        "model.add(layers.LSTM(150, activation='selu', recurrent_initializer='uniform', kernel_initializer='zeros', kernel_regularizer=regularizers.l2(0.001)))\n",
        "model.add(layers.Dropout(0.2))\n",
        "\n",
        "## layer of 30 neurons to map down from 150 hidden neurons with ridge regularizer\n",
        "model.add(layers.Dense(30, activation='selu', kernel_regularizer=regularizers.l2(0.001)))\n",
        "\n",
        "## Dropout layer\n",
        "model.add(layers.Dropout(0.6))\n",
        "\n",
        "## Output layer of 2 neurons for each score with sigmoid activation \n",
        "model.add(layers.Dense(2, activation='sigmoid'))\n",
        "\n",
        "## Compile the model \n",
        "# Optimizer Adamax\n",
        "model.compile(optimizer='adamax',loss='mse',metrics=['acc'])\n",
        "\n",
        "\n",
        "## Training the model \n",
        "# Number of epochs also comes from Gridsearch\n",
        "history = model.fit(X_train,Y_train,epochs=10, validation_data=(X_test,Y_test))\n",
        "\n",
        "# visualizing the model\n",
        "loss = history.history['loss']\n",
        "val_loss = history.history['val_loss']\n",
        "\n",
        "epochs = range(1,len(loss)+1)\n",
        "\n",
        "plt.plot(epochs,loss,'bo',label='Training loss')\n",
        "plt.plot(epochs,val_loss,'b',label='Validation loss')\n",
        "plt.title('Training and validation loss')\n",
        "plt.xlabel('Epochs')\n",
        "plt.ylabel('Loss')\n",
        "plt.legend()\n",
        "plt.show()\n",
        "\n",
        "plt.figure()\n",
        "acc = history.history['acc']\n",
        "val_acc = history.history['val_acc']\n",
        "plt.plot(epochs, acc, 'bo', label='Training acc')\n",
        "plt.plot(epochs, val_acc, 'b', label='Validation acc')\n",
        "plt.title('Training and validation accuracy')\n",
        "plt.xlabel('Epochs')\n",
        "plt.ylabel('Acc')\n",
        "plt.legend()\n",
        "plt.show()\n",
        "\n"
      ],
      "execution_count": 0,
      "outputs": [
        {
          "output_type": "stream",
          "text": [
            "/usr/local/lib/python3.6/dist-packages/ipykernel_launcher.py:14: UserWarning: Update your `Embedding` call to the Keras 2 API: `Embedding(input_dim=5191, output_dim=20, input_length=50, embeddings_initializer=\"uniform\")`\n",
            "  \n",
            "/usr/local/lib/python3.6/dist-packages/tensorflow/python/framework/indexed_slices.py:434: UserWarning: Converting sparse IndexedSlices to a dense Tensor of unknown shape. This may consume a large amount of memory.\n",
            "  \"Converting sparse IndexedSlices to a dense Tensor of unknown shape. \"\n"
          ],
          "name": "stderr"
        },
        {
          "output_type": "stream",
          "text": [
            "Train on 4800 samples, validate on 1200 samples\n",
            "Epoch 1/10\n",
            "4800/4800 [==============================] - 21s 4ms/step - loss: 0.0531 - acc: 0.6292 - val_loss: 0.0326 - val_acc: 0.7100\n",
            "Epoch 2/10\n",
            "4800/4800 [==============================] - 20s 4ms/step - loss: 0.0317 - acc: 0.6594 - val_loss: 0.0240 - val_acc: 0.7100\n",
            "Epoch 3/10\n",
            "4800/4800 [==============================] - 20s 4ms/step - loss: 0.0243 - acc: 0.6850 - val_loss: 0.0189 - val_acc: 0.7100\n",
            "Epoch 4/10\n",
            "4800/4800 [==============================] - 20s 4ms/step - loss: 0.0209 - acc: 0.6858 - val_loss: 0.0169 - val_acc: 0.7100\n",
            "Epoch 5/10\n",
            "4800/4800 [==============================] - 20s 4ms/step - loss: 0.0185 - acc: 0.6975 - val_loss: 0.0160 - val_acc: 0.7100\n",
            "Epoch 6/10\n",
            "4800/4800 [==============================] - 20s 4ms/step - loss: 0.0174 - acc: 0.6981 - val_loss: 0.0150 - val_acc: 0.7100\n",
            "Epoch 7/10\n",
            "4800/4800 [==============================] - 20s 4ms/step - loss: 0.0163 - acc: 0.7027 - val_loss: 0.0145 - val_acc: 0.7100\n",
            "Epoch 8/10\n",
            "4800/4800 [==============================] - 20s 4ms/step - loss: 0.0155 - acc: 0.7031 - val_loss: 0.0143 - val_acc: 0.7100\n",
            "Epoch 9/10\n",
            "4800/4800 [==============================] - 20s 4ms/step - loss: 0.0150 - acc: 0.7035 - val_loss: 0.0139 - val_acc: 0.7100\n",
            "Epoch 10/10\n",
            "4800/4800 [==============================] - 20s 4ms/step - loss: 0.0144 - acc: 0.7035 - val_loss: 0.0141 - val_acc: 0.7100\n"
          ],
          "name": "stdout"
        },
        {
          "output_type": "display_data",
          "data": {
            "image/png": "[encoded data removed]",
            "text/plain": [
              "<Figure size 432x288 with 1 Axes>"
            ]
          },
          "metadata": {
            "tags": [],
            "needs_background": "light"
          }
        },
        {
          "output_type": "display_data",
          "data": {
            "image/png": "[encoded data removed]",
            "text/plain": [
              "<Figure size 432x288 with 1 Axes>"
            ]
          },
          "metadata": {
            "tags": [],
            "needs_background": "light"
          }
        }
      ]
    },
    {
      "cell_type": "markdown",
      "metadata": {
        "colab_type": "text",
        "id": "XM1pLALq3_Fq"
      },
      "source": [
        "## Predict the values"
      ]
    },
    {
      "cell_type": "code",
      "metadata": {
        "colab_type": "code",
        "id": "2WqTIkJl3vXE",
        "outputId": "01d86f5c-4d22-4267-c709-9a869aaadd63",
        "colab": {
          "base_uri": "https://localhost:8080/",
          "height": 34
        }
      },
      "source": [
        "predictions = model.predict(X_test)\n",
        "predictions.shape"
      ],
      "execution_count": 0,
      "outputs": [
        {
          "output_type": "execute_result",
          "data": {
            "text/plain": [
              "(1200, 2)"
            ]
          },
          "metadata": {
            "tags": []
          },
          "execution_count": 42
        }
      ]
    },
    {
      "cell_type": "code",
      "metadata": {
        "colab_type": "code",
        "id": "Im1WSv9wLMFj",
        "colab": {}
      },
      "source": [
        "#predictions"
      ],
      "execution_count": 0,
      "outputs": []
    },
    {
      "cell_type": "markdown",
      "metadata": {
        "colab_type": "text",
        "id": "8rnXKv9t5A87"
      },
      "source": [
        "## Get Spearman Rank Score"
      ]
    },
    {
      "cell_type": "markdown",
      "metadata": {
        "colab_type": "text",
        "id": "VinG1EjBZrYL"
      },
      "source": [
        "### MLP results"
      ]
    },
    {
      "cell_type": "code",
      "metadata": {
        "colab_type": "code",
        "id": "YntwJ3Yj4DKl",
        "outputId": "300621ef-3086-4c0f-9f0f-02dd8ddbf528",
        "colab": {
          "base_uri": "https://localhost:8080/",
          "height": 121
        }
      },
      "source": [
        "rho = scipy.stats.spearmanr(predictions, Y_test)[0]\n",
        "print(rho)\n",
        "print(\"Short-term:\", rho[2][1])\n",
        "print(\"Long-term:\", rho[3][1])"
      ],
      "execution_count": 0,
      "outputs": [
        {
          "output_type": "stream",
          "text": [
            "[[1.         0.99999019 0.41575533 0.19275388]\n",
            " [0.99999019 1.         0.41562068 0.1927497 ]\n",
            " [0.41575533 0.41562068 1.         0.34074423]\n",
            " [0.19275388 0.1927497  0.34074423 1.        ]]\n",
            "Short-term: 0.4156206821952207\n",
            "Long-term: 0.19274970164242605\n"
          ],
          "name": "stdout"
        }
      ]
    },
    {
      "cell_type": "markdown",
      "metadata": {
        "colab_type": "text",
        "id": "zGl5HYSAZ2C-"
      },
      "source": [
        "### RNN results"
      ]
    },
    {
      "cell_type": "code",
      "metadata": {
        "colab_type": "code",
        "id": "EZIdhMliZ1QT",
        "outputId": "dc264eb8-b7d7-446b-c071-f47e7b45bfbe",
        "colab": {
          "base_uri": "https://localhost:8080/",
          "height": 121
        }
      },
      "source": [
        "rho = scipy.stats.spearmanr(predictions, Y_test)[0]\n",
        "print(rho)\n",
        "print(\"Short-term:\", rho[2][1])\n",
        "print(\"Long-term:\", rho[3][1])"
      ],
      "execution_count": 0,
      "outputs": [
        {
          "output_type": "stream",
          "text": [
            "[[1.         0.99993269 0.42419069 0.20851846]\n",
            " [0.99993269 1.         0.42479308 0.20864073]\n",
            " [0.42419069 0.42479308 1.         0.34074423]\n",
            " [0.20851846 0.20864073 0.34074423 1.        ]]\n",
            "Short-term: 0.4247930846651648\n",
            "Long-term: 0.2086407286978284\n"
          ],
          "name": "stdout"
        }
      ]
    },
    {
      "cell_type": "markdown",
      "metadata": {
        "colab_type": "text",
        "id": "US0AIAVzZ4hd"
      },
      "source": [
        "### CNN results"
      ]
    },
    {
      "cell_type": "code",
      "metadata": {
        "colab_type": "code",
        "id": "ZL10o3F3Zz5E",
        "outputId": "69b7d91e-ebc8-4155-ff6e-611645e93a41",
        "colab": {
          "base_uri": "https://localhost:8080/",
          "height": 121
        }
      },
      "source": [
        "rho = scipy.stats.spearmanr(predictions, Y_test)[0]\n",
        "print(rho)\n",
        "print(\"Short-term:\", rho[2][1])\n",
        "print(\"Long-term:\", rho[3][1])"
      ],
      "execution_count": 0,
      "outputs": [
        {
          "output_type": "stream",
          "text": [
            "[[1.         0.99964759 0.17288767 0.09233913]\n",
            " [0.99964759 1.         0.1726415  0.0922919 ]\n",
            " [0.17288767 0.1726415  1.         0.34074423]\n",
            " [0.09233913 0.0922919  0.34074423 1.        ]]\n",
            "Short-term: 0.17264150242499796\n",
            "Long-term: 0.09229190095784394\n"
          ],
          "name": "stdout"
        }
      ]
    },
    {
      "cell_type": "markdown",
      "metadata": {
        "colab_type": "text",
        "id": "YorYNcIu5M7b"
      },
      "source": [
        "## Save Model and Create Predictor Score CSV"
      ]
    },
    {
      "cell_type": "code",
      "metadata": {
        "colab_type": "code",
        "id": "atw9nGVr4L3I",
        "colab": {}
      },
      "source": [
        "#model.save('./my_model_aks.h5')\n",
        "final_results = pd.DataFrame({'video':labels['video'][4800:],'Short-term-pred':predictions[:,0],'Long-term-pred':predictions[:,1], 'Short-term-true':labels['short-term_memorability'][4800:], 'Long-term-true':labels['long-term_memorability'][4800:]})\n",
        "final_results = final_results.reset_index(drop=True)"
      ],
      "execution_count": 0,
      "outputs": []
    },
    {
      "cell_type": "code",
      "metadata": {
        "colab_type": "code",
        "id": "orND916M5vws",
        "colab": {}
      },
      "source": [
        "final_results\n",
        "final_results.to_csv('/content/drive/My Drive/memorability_scores_RNN.csv')"
      ],
      "execution_count": 0,
      "outputs": []
    },
    {
      "cell_type": "code",
      "metadata": {
        "colab_type": "code",
        "id": "Iy-uzR4kRZWn",
        "colab": {}
      },
      "source": [
        ""
      ],
      "execution_count": 0,
      "outputs": []
    },
    {
      "cell_type": "markdown",
      "metadata": {
        "colab_type": "text",
        "id": "x3cwhNhnR1Oa"
      },
      "source": [
        "## --- END OF MODELS ---"
      ]
    },
    {
      "cell_type": "markdown",
      "metadata": {
        "colab_type": "text",
        "id": "XBnmpJHXRZ2K"
      },
      "source": [
        "## Some additional pre training performed to get hyperparameters"
      ]
    },
    {
      "cell_type": "code",
      "metadata": {
        "colab_type": "code",
        "id": "-CQEh8oY5wxK",
        "colab": {}
      },
      "source": [
        "## Below code is a quick snippet used to perform gridsearch and get hyperparameters\n",
        "\n",
        "from keras.models import Sequential\n",
        "from keras.layers import Dense\n",
        "from keras.wrappers.scikit_learn import KerasClassifier, KerasRegressor\n",
        "from sklearn.model_selection import StratifiedKFold, KFold\n",
        "from sklearn.model_selection import cross_val_score\n",
        "import numpy\n",
        "from keras import regularizers\n",
        "from keras_tqdm import TQDMNotebookCallback\n",
        "\n",
        "\n",
        "# Function to create model, required for KerasClassifier\n",
        "def create_model(num_neuron='10',activation='selu', optimizer='adamax', dropout='0.5', kernel_lambda='0.001', kernel_init='glorot_uniform'):\n",
        "    # create model\n",
        "    len_token = len(counts)\n",
        "    model = Sequential()\n",
        "    model.add(layers.Dense(num_neuron,activation=activation,kernel_regularizer=regularizers.l2(kernel_lambda),\n",
        "                           input_shape=(len_token,))) # there are 5191 inputs ! => 10 nodes\n",
        "    model.add(layers.Dropout(dropout))\n",
        "    model.add(layers.Dense(num_neuron,activation=activation,kernel_regularizer=regularizers.l2(kernel_lambda)))\n",
        "    model.add(layers.Dropout(dropout))\n",
        "    model.add(layers.Dense(2,activation='sigmoid')) # there are 2 probability outputs! try 'selu'\n",
        "    model.compile(optimizer=optimizer, loss='mse',metrics=['accuracy']) #try adamax\n",
        "    return model\n",
        "\n",
        "# create model\n",
        "model = KerasRegressor(build_fn=create_model, verbose=0)\n",
        "\n",
        "# evaluate using 10-fold cross validation\n",
        "# kfold = KFold(n_splits=5, shuffle=True, random_state=1)\n",
        "\n",
        "\n"
      ],
      "execution_count": 0,
      "outputs": []
    },
    {
      "cell_type": "code",
      "metadata": {
        "colab_type": "code",
        "id": "EDyaEPN9Av4s",
        "colab": {}
      },
      "source": [
        "# Hyperparameters tuning \n",
        "\n",
        "# grid search for No.of epochs, batch size, optimizer, Learning Rate, Momentum, \n",
        "# Network Weight Initialization, Dropout Regularization, Number of Neurons in the Hidden Layer \n",
        "from sklearn.model_selection import GridSearchCV\n",
        "epochs = [10] #[10, 20, 30, 50]\n",
        "batches = [5] #[5, 10, 20, 40, 60, 80, 100]\n",
        "\n",
        "#learn_rates = [0.001, 0.01, 0.1, 0.2, 0.3]\n",
        "#momentums = [0.0, 0.2, 0.4, 0.6, 0.8, 0.9]\n",
        "dropouts = [0.5] #[0.0, 0.1, 0.2, 0.3, 0.4, 0.5, 0.6, 0.7, 0.8, 0.9]\n",
        "#weight_constraint = [1, 2, 3, 4, 5]\n",
        "num_neurons = [10] #[1, 10, 20, 30, 40, 50]\n",
        "\n",
        "optimizers =  #['RMSprop','Adagrad','SGD','Adadelta','Adam','Adamax','Nadam']\n",
        "#activationss = ['softmax','softplus','softsign','relu','tanh','sigmoid','selu','hard_sigmoid','linear']\n",
        "activations = ['relu','selu','linear']\n",
        "\n",
        "kernel_inits = ['glorot_uniform','glorot_normal','normal','uniform',\n",
        "                      'lecun_uniform','zero','he_normal','he_uniform']\n",
        "\n",
        "kernel_lambdas = [0.0001]  #[0.0001, 0.0005, 0.001, 0.005, 0.01, 0.05, 0.1, 0.5]\n",
        "\n",
        "\n",
        "param_grid = dict(optimizer=optimizers, epochs=epochs, batch_size=batches, kernel_init=kernel_inits, kernel_lambda=kernel_lambdas, \n",
        "                  num_neuron=num_neurons, dropout=dropouts, )\n",
        "grid = GridSearchCV(estimator=model, param_grid=param_grid, verbose=15, n_jobs=-1)\n",
        "grid_result = grid.fit(X_train, Y_train)\n",
        "\n"
      ],
      "execution_count": 0,
      "outputs": []
    }
  ]
}